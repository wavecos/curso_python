{
 "cells": [
  {
   "cell_type": "markdown",
   "metadata": {},
   "source": [
    "# Calcula tu peso en otros planetas"
   ]
  },
  {
   "cell_type": "markdown",
   "metadata": {},
   "source": [
    "Referencia: [aqui](https://www.levante-emv.com/sociedad/2017/06/30/pesarias-planetas/1587588.html)"
   ]
  },
  {
   "cell_type": "markdown",
   "metadata": {},
   "source": [
    "`p = m * g` peso de una persona"
   ]
  },
  {
   "cell_type": "markdown",
   "metadata": {},
   "source": [
    "Mercurio: 3,70 m/s2\n",
    "Venus: 8,87 m/s2\n",
    "Marte: 3,71 m/s2\n",
    "Júpiter: 23,12 m/s2\n",
    "Saturno: 8,96 m/s2\n",
    "Urano: 8,69 m/s2\n",
    "Neptuno: 11 m/s2\n",
    "Plutón: 0,81 m/s2"
   ]
  },
  {
   "cell_type": "code",
   "execution_count": 9,
   "metadata": {},
   "outputs": [],
   "source": [
    "def peso_en_planeta(peso_tierra, planeta):\n",
    "    gravedad_tierra = 9.8\n",
    "    if planeta == 'mercurio':\n",
    "        peso_planeta = peso_tierra / gravedad_tierra * 3.7 # 3.70\n",
    "    if planeta == 'venus':\n",
    "        peso_planeta = peso_tierra / gravedad_tierra * 8.87\n",
    "    if planeta == 'marte':\n",
    "        peso_planeta = peso_tierra / gravedad_tierra * 3.71\n",
    "    if planeta == 'jupiter':\n",
    "        peso_planeta = peso_tierra / gravedad_tierra * 23.12\n",
    "    if planeta == 'saturno':\n",
    "        peso_planeta = peso_tierra / gravedad_tierra * 8.96\n",
    "    if planeta == 'urano':\n",
    "        peso_planeta = peso_tierra / gravedad_tierra * 8.69\n",
    "    \n",
    "    return 'Tu peso en ' + planeta + ' es igual a ' + f'{peso_planeta:.2f}' + ' Kg.'"
   ]
  },
  {
   "cell_type": "code",
   "execution_count": 10,
   "metadata": {},
   "outputs": [
    {
     "name": "stdin",
     "output_type": "stream",
     "text": [
      "Cual es tu peso (kg)? 72\n",
      "Para que planeta deseas saber tu peso? marte\n"
     ]
    },
    {
     "data": {
      "text/plain": [
       "'Tu peso en marte es igual a 27.26 Kg.'"
      ]
     },
     "execution_count": 10,
     "metadata": {},
     "output_type": "execute_result"
    }
   ],
   "source": [
    "peso = int(input('Cual es tu peso (kg)?'))\n",
    "planeta = input('Para que planeta deseas saber tu peso?')\n",
    "\n",
    "peso_en_planeta(peso, planeta)"
   ]
  },
  {
   "cell_type": "code",
   "execution_count": null,
   "metadata": {},
   "outputs": [],
   "source": []
  },
  {
   "cell_type": "code",
   "execution_count": null,
   "metadata": {},
   "outputs": [],
   "source": []
  }
 ],
 "metadata": {
  "kernelspec": {
   "display_name": "Python 3",
   "language": "python",
   "name": "python3"
  },
  "language_info": {
   "codemirror_mode": {
    "name": "ipython",
    "version": 3
   },
   "file_extension": ".py",
   "mimetype": "text/x-python",
   "name": "python",
   "nbconvert_exporter": "python",
   "pygments_lexer": "ipython3",
   "version": "3.7.5"
  }
 },
 "nbformat": 4,
 "nbformat_minor": 4
}
