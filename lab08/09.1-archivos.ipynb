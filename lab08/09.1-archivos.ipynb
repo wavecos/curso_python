{
 "cells": [
  {
   "cell_type": "markdown",
   "metadata": {},
   "source": [
    "# Archivos y Excepciones"
   ]
  },
  {
   "cell_type": "markdown",
   "metadata": {},
   "source": [
    "## Escritura de Archivos"
   ]
  },
  {
   "cell_type": "code",
   "execution_count": 12,
   "metadata": {},
   "outputs": [],
   "source": [
    "with open('planilla.txt', mode='w') as plan:\n",
    "    plan.write('1001 Perez 5241\\n')\n",
    "    plan.write('1002 Gonzalez 3687\\n')\n",
    "    plan.write('1003 Robles 9870\\n')"
   ]
  },
  {
   "cell_type": "code",
   "execution_count": 6,
   "metadata": {},
   "outputs": [
    {
     "name": "stdout",
     "output_type": "stream",
     "text": [
      "total 16\n",
      "drwxr-xr-x   5 onix  staff   160 Apr 27 20:11 \u001b[1m\u001b[36m.\u001b[m\u001b[m\n",
      "drwxr-xr-x  14 onix  staff   448 Apr 27 20:05 \u001b[1m\u001b[36m..\u001b[m\u001b[m\n",
      "drwxr-xr-x   4 onix  staff   128 Apr 27 20:10 \u001b[1m\u001b[36m.ipynb_checkpoints\u001b[m\u001b[m\n",
      "-rw-r--r--   1 onix  staff  1310 Apr 27 20:11 09.1-archivos.ipynb\n",
      "-rw-r--r--   1 onix  staff    45 Apr 27 20:10 planilla.txt\n"
     ]
    }
   ],
   "source": [
    "!ls -al # listamos el directorio actual"
   ]
  },
  {
   "cell_type": "code",
   "execution_count": 9,
   "metadata": {},
   "outputs": [],
   "source": [
    "# Tabla de Multiplicar\n",
    "with open('tabla7.txt', mode='w') as tabla:\n",
    "    for num in range(1, 11):\n",
    "        tabla.write(f'{num:2d} x 7 = {num*7}\\n')"
   ]
  },
  {
   "cell_type": "markdown",
   "metadata": {},
   "source": [
    "## Lectura de Archivos"
   ]
  },
  {
   "cell_type": "code",
   "execution_count": 13,
   "metadata": {},
   "outputs": [
    {
     "name": "stdout",
     "output_type": "stream",
     "text": [
      "Nro.Cuenta     Apellido          Salario\n",
      "1001           Perez               5241\n",
      "\n",
      "1002           Gonzalez            3687\n",
      "\n",
      "1003           Robles              9870\n",
      "\n"
     ]
    }
   ],
   "source": [
    "with open('planilla.txt', mode='r') as cuentas:\n",
    "    print(f'{\"Nro.Cuenta\":<15}{\"Apellido\":<15}{\"Salario\":>10}')\n",
    "    for registro in cuentas:\n",
    "        cuenta_obrero, apellido, sueldo = registro.split(' ')\n",
    "        print(f'{cuenta_obrero:<15}{apellido:<15}{sueldo:>10}')"
   ]
  },
  {
   "cell_type": "code",
   "execution_count": null,
   "metadata": {},
   "outputs": [],
   "source": []
  },
  {
   "cell_type": "code",
   "execution_count": null,
   "metadata": {},
   "outputs": [],
   "source": []
  }
 ],
 "metadata": {
  "kernelspec": {
   "display_name": "Python 3",
   "language": "python",
   "name": "python3"
  },
  "language_info": {
   "codemirror_mode": {
    "name": "ipython",
    "version": 3
   },
   "file_extension": ".py",
   "mimetype": "text/x-python",
   "name": "python",
   "nbconvert_exporter": "python",
   "pygments_lexer": "ipython3",
   "version": "3.7.5"
  }
 },
 "nbformat": 4,
 "nbformat_minor": 4
}
