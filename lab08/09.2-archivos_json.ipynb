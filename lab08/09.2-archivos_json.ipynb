{
 "cells": [
  {
   "cell_type": "markdown",
   "metadata": {},
   "source": [
    "# Archivos JSON"
   ]
  },
  {
   "cell_type": "markdown",
   "metadata": {},
   "source": [
    "Definición de [JSON](https://en.wikipedia.org/wiki/JSON)"
   ]
  },
  {
   "cell_type": "markdown",
   "metadata": {},
   "source": [
    "## Escritura de archivos JSON (Serialización)"
   ]
  },
  {
   "cell_type": "code",
   "execution_count": 1,
   "metadata": {},
   "outputs": [],
   "source": [
    "persona = {\n",
    "    'nombre': 'Juan',\n",
    "    'apellido': 'Perez',\n",
    "    'edad': 26,\n",
    "    'es_casado': False,\n",
    "    'direccion': {\n",
    "        'calle': 'c. Buenos Aires',\n",
    "        'ciudad': 'Cochabamba',\n",
    "        'Numero Casa': 256\n",
    "    },\n",
    "    'notas': [\n",
    "        41,\n",
    "        36,\n",
    "        87\n",
    "    ]\n",
    "}"
   ]
  },
  {
   "cell_type": "code",
   "execution_count": 3,
   "metadata": {},
   "outputs": [
    {
     "data": {
      "text/plain": [
       "'Perez'"
      ]
     },
     "execution_count": 3,
     "metadata": {},
     "output_type": "execute_result"
    }
   ],
   "source": [
    "persona['apellido']"
   ]
  },
  {
   "cell_type": "code",
   "execution_count": 4,
   "metadata": {},
   "outputs": [],
   "source": [
    "# importar la libreria json\n",
    "import json"
   ]
  },
  {
   "cell_type": "code",
   "execution_count": 5,
   "metadata": {},
   "outputs": [],
   "source": [
    "with open('juan_perez.json', mode='w') as juan_perez:\n",
    "    json.dump(persona, juan_perez)"
   ]
  },
  {
   "cell_type": "code",
   "execution_count": 6,
   "metadata": {},
   "outputs": [
    {
     "name": "stdout",
     "output_type": "stream",
     "text": [
      "09.1-archivos.ipynb      juan_perez.json          tabla7.txt\n",
      "09.2-archivos_json.ipynb planilla.txt             terremotos.json\n"
     ]
    }
   ],
   "source": [
    "!ls "
   ]
  },
  {
   "cell_type": "markdown",
   "metadata": {},
   "source": [
    "## Lectura de archivos JSON (Deserialización)"
   ]
  },
  {
   "cell_type": "code",
   "execution_count": 27,
   "metadata": {},
   "outputs": [],
   "source": [
    "with open('recursos/terremotos.json', mode='r') as terremotos:\n",
    "    terremotos_json = json.load(terremotos)"
   ]
  },
  {
   "cell_type": "code",
   "execution_count": 28,
   "metadata": {},
   "outputs": [
    {
     "data": {
      "text/plain": [
       "dict"
      ]
     },
     "execution_count": 28,
     "metadata": {},
     "output_type": "execute_result"
    }
   ],
   "source": [
    "type(terremotos_json)"
   ]
  },
  {
   "cell_type": "code",
   "execution_count": 29,
   "metadata": {},
   "outputs": [
    {
     "data": {
      "text/plain": [
       "{'type': 'FeatureCollection',\n",
       " 'metadata': {'generated': 1588027911000,\n",
       "  'url': 'https://earthquake.usgs.gov/earthquakes/feed/v1.0/summary/significant_month.geojson',\n",
       "  'title': 'USGS Significant Earthquakes, Past Month',\n",
       "  'status': 200,\n",
       "  'api': '1.8.1',\n",
       "  'count': 14},\n",
       " 'features': [{'type': 'Feature',\n",
       "   'properties': {'mag': 6.3,\n",
       "    'place': '132km W of Panguna, Papua New Guinea',\n",
       "    'time': 1587783185839,\n",
       "    'updated': 1587869908324,\n",
       "    'tz': 600,\n",
       "    'url': 'https://earthquake.usgs.gov/earthquakes/eventpage/us60009c06',\n",
       "    'detail': 'https://earthquake.usgs.gov/earthquakes/feed/v1.0/detail/us60009c06.geojson',\n",
       "    'felt': 1,\n",
       "    'cdi': 1,\n",
       "    'mmi': 4.111,\n",
       "    'alert': 'green',\n",
       "    'status': 'reviewed',\n",
       "    'tsunami': 1,\n",
       "    'sig': 611,\n",
       "    'net': 'us',\n",
       "    'code': '60009c06',\n",
       "    'ids': ',us60009c06,',\n",
       "    'sources': ',us,',\n",
       "    'types': ',dyfi,geoserve,ground-failure,losspager,moment-tensor,origin,phase-data,shakemap,',\n",
       "    'nst': None,\n",
       "    'dmin': 3.136,\n",
       "    'rms': 0.98,\n",
       "    'gap': 61,\n",
       "    'magType': 'mww',\n",
       "    'type': 'earthquake',\n",
       "    'title': 'M 6.3 - 132km W of Panguna, Papua New Guinea'},\n",
       "   'geometry': {'type': 'Point', 'coordinates': [154.3008, -6.5105, 16.85]},\n",
       "   'id': 'us60009c06'},\n",
       "  {'type': 'Feature',\n",
       "   'properties': {'mag': 3.69,\n",
       "    'place': '1km S of View Park-Windsor Hills, CA',\n",
       "    'time': 1587539027740,\n",
       "    'updated': 1588020428424,\n",
       "    'tz': -480,\n",
       "    'url': 'https://earthquake.usgs.gov/earthquakes/eventpage/ci39400304',\n",
       "    'detail': 'https://earthquake.usgs.gov/earthquakes/feed/v1.0/detail/ci39400304.geojson',\n",
       "    'felt': 19187,\n",
       "    'cdi': 5.3,\n",
       "    'mmi': 4.56,\n",
       "    'alert': None,\n",
       "    'status': 'reviewed',\n",
       "    'tsunami': 0,\n",
       "    'sig': 739,\n",
       "    'net': 'ci',\n",
       "    'code': '39400304',\n",
       "    'ids': ',ci39400304,us700091jx,',\n",
       "    'sources': ',ci,us,',\n",
       "    'types': ',dyfi,focal-mechanism,geoserve,nearby-cities,origin,phase-data,scitech-link,shakemap,',\n",
       "    'nst': 170,\n",
       "    'dmin': 0.01026,\n",
       "    'rms': 0.24,\n",
       "    'gap': 38,\n",
       "    'magType': 'mw',\n",
       "    'type': 'earthquake',\n",
       "    'title': 'M 3.7 - 1km S of View Park-Windsor Hills, CA'},\n",
       "   'geometry': {'type': 'Point', 'coordinates': [-118.3495, 33.989, 11.6]},\n",
       "   'id': 'ci39400304'},\n",
       "  {'type': 'Feature',\n",
       "   'properties': {'mag': 6.3,\n",
       "    'place': '25km SE of Ofunato, Japan',\n",
       "    'time': 1587328745984,\n",
       "    'updated': 1587729168113,\n",
       "    'tz': 540,\n",
       "    'url': 'https://earthquake.usgs.gov/earthquakes/eventpage/us7000903m',\n",
       "    'detail': 'https://earthquake.usgs.gov/earthquakes/feed/v1.0/detail/us7000903m.geojson',\n",
       "    'felt': 62,\n",
       "    'cdi': 6.3,\n",
       "    'mmi': 5.537,\n",
       "    'alert': 'green',\n",
       "    'status': 'reviewed',\n",
       "    'tsunami': 0,\n",
       "    'sig': 650,\n",
       "    'net': 'us',\n",
       "    'code': '7000903m',\n",
       "    'ids': ',us7000903m,',\n",
       "    'sources': ',us,',\n",
       "    'types': ',dyfi,geoserve,ground-failure,losspager,moment-tensor,origin,phase-data,shakemap,',\n",
       "    'nst': None,\n",
       "    'dmin': 1.99,\n",
       "    'rms': 1.14,\n",
       "    'gap': 39,\n",
       "    'magType': 'mww',\n",
       "    'type': 'earthquake',\n",
       "    'title': 'M 6.3 - 25km SE of Ofunato, Japan'},\n",
       "   'geometry': {'type': 'Point', 'coordinates': [141.9318, 38.9119, 38]},\n",
       "   'id': 'us7000903m'},\n",
       "  {'type': 'Feature',\n",
       "   'properties': {'mag': 6.6,\n",
       "    'place': '209km W of Chichi-shima, Japan',\n",
       "    'time': 1587198337201,\n",
       "    'updated': 1587639450784,\n",
       "    'tz': 540,\n",
       "    'url': 'https://earthquake.usgs.gov/earthquakes/eventpage/us70008z89',\n",
       "    'detail': 'https://earthquake.usgs.gov/earthquakes/feed/v1.0/detail/us70008z89.geojson',\n",
       "    'felt': 41,\n",
       "    'cdi': 3.8,\n",
       "    'mmi': 0,\n",
       "    'alert': 'green',\n",
       "    'status': 'reviewed',\n",
       "    'tsunami': 1,\n",
       "    'sig': 686,\n",
       "    'net': 'us',\n",
       "    'code': '70008z89',\n",
       "    'ids': ',at00q8z62q,pt20109000,us70008z89,',\n",
       "    'sources': ',at,pt,us,',\n",
       "    'types': ',dyfi,geoserve,impact-link,losspager,moment-tensor,origin,phase-data,shakemap,',\n",
       "    'nst': None,\n",
       "    'dmin': 1.853,\n",
       "    'rms': 0.75,\n",
       "    'gap': 34,\n",
       "    'magType': 'mww',\n",
       "    'type': 'earthquake',\n",
       "    'title': 'M 6.6 - 209km W of Chichi-shima, Japan'},\n",
       "   'geometry': {'type': 'Point', 'coordinates': [140.1061, 27.1398, 453.77]},\n",
       "   'id': 'us70008z89'},\n",
       "  {'type': 'Feature',\n",
       "   'properties': {'mag': 4.19,\n",
       "    'place': '4km NE of Magna, Utah',\n",
       "    'time': 1587044489470,\n",
       "    'updated': 1587991221727,\n",
       "    'tz': -420,\n",
       "    'url': 'https://earthquake.usgs.gov/earthquakes/eventpage/uu60378837',\n",
       "    'detail': 'https://earthquake.usgs.gov/earthquakes/feed/v1.0/detail/uu60378837.geojson',\n",
       "    'felt': 6455,\n",
       "    'cdi': 4.6,\n",
       "    'mmi': 4.92,\n",
       "    'alert': 'green',\n",
       "    'status': 'reviewed',\n",
       "    'tsunami': 0,\n",
       "    'sig': 730,\n",
       "    'net': 'uu',\n",
       "    'code': '60378837',\n",
       "    'ids': ',uu60378837,us70008xj0,',\n",
       "    'sources': ',uu,us,',\n",
       "    'types': ',dyfi,geoserve,losspager,moment-tensor,origin,phase-data,shakemap,',\n",
       "    'nst': 52,\n",
       "    'dmin': 0.02144,\n",
       "    'rms': 0.16,\n",
       "    'gap': 32,\n",
       "    'magType': 'ml',\n",
       "    'type': 'earthquake',\n",
       "    'title': 'M 4.2 - 4km NE of Magna, Utah'},\n",
       "   'geometry': {'type': 'Point',\n",
       "    'coordinates': [-112.0621667, 40.7358333, 9.52]},\n",
       "   'id': 'uu60378837'},\n",
       "  {'type': 'Feature',\n",
       "   'properties': {'mag': 5.9,\n",
       "    'place': '38km ESE of Falam, Burma',\n",
       "    'time': 1587037523956,\n",
       "    'updated': 1587124066934,\n",
       "    'tz': 390,\n",
       "    'url': 'https://earthquake.usgs.gov/earthquakes/eventpage/us70008xhp',\n",
       "    'detail': 'https://earthquake.usgs.gov/earthquakes/feed/v1.0/detail/us70008xhp.geojson',\n",
       "    'felt': 35,\n",
       "    'cdi': 5.6,\n",
       "    'mmi': 6.58,\n",
       "    'alert': 'yellow',\n",
       "    'status': 'reviewed',\n",
       "    'tsunami': 0,\n",
       "    'sig': 670,\n",
       "    'net': 'us',\n",
       "    'code': '70008xhp',\n",
       "    'ids': ',us70008xhp,',\n",
       "    'sources': ',us,',\n",
       "    'types': ',dyfi,geoserve,losspager,moment-tensor,origin,phase-data,shakemap,',\n",
       "    'nst': None,\n",
       "    'dmin': 0.416,\n",
       "    'rms': 0.9,\n",
       "    'gap': 35,\n",
       "    'magType': 'mww',\n",
       "    'type': 'earthquake',\n",
       "    'title': 'M 5.9 - 38km ESE of Falam, Burma'},\n",
       "   'geometry': {'type': 'Point', 'coordinates': [94.0248, 22.7822, 10]},\n",
       "   'id': 'us70008xhp'},\n",
       "  {'type': 'Feature',\n",
       "   'properties': {'mag': 6,\n",
       "    'place': '55km NNE of Savannah Bight, Honduras',\n",
       "    'time': 1587024277597,\n",
       "    'updated': 1587751858203,\n",
       "    'tz': -360,\n",
       "    'url': 'https://earthquake.usgs.gov/earthquakes/eventpage/us70008xeb',\n",
       "    'detail': 'https://earthquake.usgs.gov/earthquakes/feed/v1.0/detail/us70008xeb.geojson',\n",
       "    'felt': 135,\n",
       "    'cdi': 5.5,\n",
       "    'mmi': 4.647,\n",
       "    'alert': 'green',\n",
       "    'status': 'reviewed',\n",
       "    'tsunami': 1,\n",
       "    'sig': 628,\n",
       "    'net': 'us',\n",
       "    'code': '70008xeb',\n",
       "    'ids': ',at00q8vfrr,pt20107000,us70008xeb,',\n",
       "    'sources': ',at,pt,us,',\n",
       "    'types': ',dyfi,geoserve,ground-failure,impact-link,losspager,moment-tensor,origin,phase-data,shakemap,',\n",
       "    'nst': None,\n",
       "    'dmin': 3.323,\n",
       "    'rms': 1.45,\n",
       "    'gap': 31,\n",
       "    'magType': 'mww',\n",
       "    'type': 'earthquake',\n",
       "    'title': 'M 6.0 - 55km NNE of Savannah Bight, Honduras'},\n",
       "   'geometry': {'type': 'Point', 'coordinates': [-85.7099, 16.9332, 10]},\n",
       "   'id': 'us70008xeb'},\n",
       "  {'type': 'Feature',\n",
       "   'properties': {'mag': 4.17,\n",
       "    'place': '4km ENE of Magna, Utah',\n",
       "    'time': 1586919369370,\n",
       "    'updated': 1587928929045,\n",
       "    'tz': -420,\n",
       "    'url': 'https://earthquake.usgs.gov/earthquakes/eventpage/uu60378292',\n",
       "    'detail': 'https://earthquake.usgs.gov/earthquakes/feed/v1.0/detail/uu60378292.geojson',\n",
       "    'felt': 9135,\n",
       "    'cdi': 4.6,\n",
       "    'mmi': 4.78,\n",
       "    'alert': 'green',\n",
       "    'status': 'reviewed',\n",
       "    'tsunami': 0,\n",
       "    'sig': 728,\n",
       "    'net': 'uu',\n",
       "    'code': '60378292',\n",
       "    'ids': ',uu60378292,us70008whe,',\n",
       "    'sources': ',uu,us,',\n",
       "    'types': ',dyfi,geoserve,losspager,moment-tensor,origin,phase-data,shakemap,',\n",
       "    'nst': 60,\n",
       "    'dmin': 0.01793,\n",
       "    'rms': 0.18,\n",
       "    'gap': 27,\n",
       "    'magType': 'ml',\n",
       "    'type': 'earthquake',\n",
       "    'title': 'M 4.2 - 4km ENE of Magna, Utah'},\n",
       "   'geometry': {'type': 'Point',\n",
       "    'coordinates': [-112.0576667, 40.7338333, 9.03]},\n",
       "   'id': 'uu60378292'},\n",
       "  {'type': 'Feature',\n",
       "   'properties': {'mag': 5.24,\n",
       "    'place': '30km SE of Bodie, CA',\n",
       "    'time': 1586615797040,\n",
       "    'updated': 1587998803647,\n",
       "    'tz': -480,\n",
       "    'url': 'https://earthquake.usgs.gov/earthquakes/eventpage/nc73367270',\n",
       "    'detail': 'https://earthquake.usgs.gov/earthquakes/feed/v1.0/detail/nc73367270.geojson',\n",
       "    'felt': 1720,\n",
       "    'cdi': 5.6,\n",
       "    'mmi': 6.76,\n",
       "    'alert': 'green',\n",
       "    'status': 'reviewed',\n",
       "    'tsunami': 0,\n",
       "    'sig': 982,\n",
       "    'net': 'nc',\n",
       "    'code': '73367270',\n",
       "    'ids': ',nn00721575,nc73367270,us70008tvv,',\n",
       "    'sources': ',nn,nc,us,',\n",
       "    'types': ',dyfi,focal-mechanism,geoserve,ground-failure,losspager,moment-tensor,nearby-cities,oaf,origin,phase-data,scitech-link,shake-alert,shakemap,',\n",
       "    'nst': 46,\n",
       "    'dmin': 0.268,\n",
       "    'rms': 0.06,\n",
       "    'gap': 97,\n",
       "    'magType': 'mw',\n",
       "    'type': 'earthquake',\n",
       "    'title': 'M 5.2 - 30km SE of Bodie, CA'},\n",
       "   'geometry': {'type': 'Point', 'coordinates': [-118.7333333, 38.0525, 8.45]},\n",
       "   'id': 'nc73367270'},\n",
       "  {'type': 'Feature',\n",
       "   'properties': {'mag': 3.5,\n",
       "    'place': '18km ESE of Anza, CA',\n",
       "    'time': 1586126238820,\n",
       "    'updated': 1587540895954,\n",
       "    'tz': -480,\n",
       "    'url': 'https://earthquake.usgs.gov/earthquakes/eventpage/ci39135575',\n",
       "    'detail': 'https://earthquake.usgs.gov/earthquakes/feed/v1.0/detail/ci39135575.geojson',\n",
       "    'felt': 1108,\n",
       "    'cdi': 4.3,\n",
       "    'mmi': 4.54,\n",
       "    'alert': None,\n",
       "    'status': 'reviewed',\n",
       "    'tsunami': 0,\n",
       "    'sig': 618,\n",
       "    'net': 'ci',\n",
       "    'code': '39135575',\n",
       "    'ids': ',ci39135575,us70008pjd,',\n",
       "    'sources': ',ci,us,',\n",
       "    'types': ',dyfi,focal-mechanism,geoserve,nearby-cities,origin,phase-data,scitech-link,shakemap,',\n",
       "    'nst': 141,\n",
       "    'dmin': 0.06774,\n",
       "    'rms': 0.21,\n",
       "    'gap': 28,\n",
       "    'magType': 'mw',\n",
       "    'type': 'earthquake',\n",
       "    'title': 'M 3.5 - 18km ESE of Anza, CA'},\n",
       "   'geometry': {'type': 'Point',\n",
       "    'coordinates': [-116.4961667, 33.4961667, 13.25]},\n",
       "   'id': 'ci39135575'},\n",
       "  {'type': 'Feature',\n",
       "   'properties': {'mag': 3.66,\n",
       "    'place': '16km ESE of Anza, CA',\n",
       "    'time': 1585965900170,\n",
       "    'updated': 1586564525925,\n",
       "    'tz': -480,\n",
       "    'url': 'https://earthquake.usgs.gov/earthquakes/eventpage/ci39126263',\n",
       "    'detail': 'https://earthquake.usgs.gov/earthquakes/feed/v1.0/detail/ci39126263.geojson',\n",
       "    'felt': 1022,\n",
       "    'cdi': 5,\n",
       "    'mmi': 4.38,\n",
       "    'alert': None,\n",
       "    'status': 'reviewed',\n",
       "    'tsunami': 0,\n",
       "    'sig': 706,\n",
       "    'net': 'ci',\n",
       "    'code': '39126263',\n",
       "    'ids': ',ci39126263,us70008n9z,',\n",
       "    'sources': ',ci,us,',\n",
       "    'types': ',dyfi,focal-mechanism,geoserve,nearby-cities,origin,phase-data,scitech-link,shakemap,',\n",
       "    'nst': 145,\n",
       "    'dmin': 0.06402,\n",
       "    'rms': 0.2,\n",
       "    'gap': 23,\n",
       "    'magType': 'mw',\n",
       "    'type': 'earthquake',\n",
       "    'title': 'M 3.7 - 16km ESE of Anza, CA'},\n",
       "   'geometry': {'type': 'Point',\n",
       "    'coordinates': [-116.5153333, 33.4946667, 10.28]},\n",
       "   'id': 'ci39126263'},\n",
       "  {'type': 'Feature',\n",
       "   'properties': {'mag': 4.87,\n",
       "    'place': '17km ESE of Anza, CA',\n",
       "    'time': 1585965198920,\n",
       "    'updated': 1587951092985,\n",
       "    'tz': -480,\n",
       "    'url': 'https://earthquake.usgs.gov/earthquakes/eventpage/ci39126079',\n",
       "    'detail': 'https://earthquake.usgs.gov/earthquakes/feed/v1.0/detail/ci39126079.geojson',\n",
       "    'felt': 22191,\n",
       "    'cdi': 4.8,\n",
       "    'mmi': 6.52,\n",
       "    'alert': 'green',\n",
       "    'status': 'reviewed',\n",
       "    'tsunami': 1,\n",
       "    'sig': 845,\n",
       "    'net': 'ci',\n",
       "    'code': '39126079',\n",
       "    'ids': ',ci39126079,at00q88qkv,us70008n9b,',\n",
       "    'sources': ',ci,at,us,',\n",
       "    'types': ',dyfi,focal-mechanism,geoserve,impact-link,losspager,moment-tensor,nearby-cities,origin,phase-data,scitech-link,shake-alert,shakemap,',\n",
       "    'nst': 175,\n",
       "    'dmin': 0.07088,\n",
       "    'rms': 0.22,\n",
       "    'gap': 23,\n",
       "    'magType': 'mw',\n",
       "    'type': 'earthquake',\n",
       "    'title': 'M 4.9 - 17km ESE of Anza, CA'},\n",
       "   'geometry': {'type': 'Point',\n",
       "    'coordinates': [-116.5063333, 33.4895, 10.45]},\n",
       "   'id': 'ci39126079'},\n",
       "  {'type': 'Feature',\n",
       "   'properties': {'mag': 4.8,\n",
       "    'place': '72km ESE of Cascade, Idaho',\n",
       "    'time': 1585700861034,\n",
       "    'updated': 1586891733853,\n",
       "    'tz': -420,\n",
       "    'url': 'https://earthquake.usgs.gov/earthquakes/eventpage/us70008js1',\n",
       "    'detail': 'https://earthquake.usgs.gov/earthquakes/feed/v1.0/detail/us70008js1.geojson',\n",
       "    'felt': 533,\n",
       "    'cdi': 6.6,\n",
       "    'mmi': 5.691,\n",
       "    'alert': 'green',\n",
       "    'status': 'reviewed',\n",
       "    'tsunami': 0,\n",
       "    'sig': 706,\n",
       "    'net': 'us',\n",
       "    'code': '70008js1',\n",
       "    'ids': ',ak020485mtmv,us70008js1,mb80387309,',\n",
       "    'sources': ',ak,us,mb,',\n",
       "    'types': ',dyfi,geoserve,losspager,moment-tensor,origin,phase-data,shakemap,',\n",
       "    'nst': None,\n",
       "    'dmin': 0.935,\n",
       "    'rms': 0.81,\n",
       "    'gap': 39,\n",
       "    'magType': 'mww',\n",
       "    'type': 'earthquake',\n",
       "    'title': 'M 4.8 - 72km ESE of Cascade, Idaho'},\n",
       "   'geometry': {'type': 'Point', 'coordinates': [-115.1673, 44.3232, 10]},\n",
       "   'id': 'us70008js1'},\n",
       "  {'type': 'Feature',\n",
       "   'properties': {'mag': 6.5,\n",
       "    'place': '72km W of Challis, Idaho',\n",
       "    'time': 1585698751094,\n",
       "    'updated': 1587859362734,\n",
       "    'tz': -420,\n",
       "    'url': 'https://earthquake.usgs.gov/earthquakes/eventpage/us70008jr5',\n",
       "    'detail': 'https://earthquake.usgs.gov/earthquakes/feed/v1.0/detail/us70008jr5.geojson',\n",
       "    'felt': 39151,\n",
       "    'cdi': 7.6,\n",
       "    'mmi': 8.239,\n",
       "    'alert': 'green',\n",
       "    'status': 'reviewed',\n",
       "    'tsunami': 0,\n",
       "    'sig': 1410,\n",
       "    'net': 'us',\n",
       "    'code': '70008jr5',\n",
       "    'ids': ',us70008jr5,mb80387294,uu60371877,',\n",
       "    'sources': ',us,mb,uu,',\n",
       "    'types': ',dyfi,finite-fault,general-link,general-text,geoserve,ground-failure,impact-text,losspager,moment-tensor,oaf,origin,phase-data,shakemap,',\n",
       "    'nst': None,\n",
       "    'dmin': 0.879,\n",
       "    'rms': 0.68,\n",
       "    'gap': 31,\n",
       "    'magType': 'mww',\n",
       "    'type': 'earthquake',\n",
       "    'title': 'M 6.5 - 72km W of Challis, Idaho'},\n",
       "   'geometry': {'type': 'Point', 'coordinates': [-115.1356, 44.4603, 14.53]},\n",
       "   'id': 'us70008jr5'}],\n",
       " 'bbox': [-118.7333333, -6.5105, 8.45, 154.3008, 44.4603, 453.77]}"
      ]
     },
     "execution_count": 29,
     "metadata": {},
     "output_type": "execute_result"
    }
   ],
   "source": [
    "terremotos_json"
   ]
  },
  {
   "cell_type": "code",
   "execution_count": 11,
   "metadata": {},
   "outputs": [],
   "source": [
    "lista_terremotos = terremotos_json['features']"
   ]
  },
  {
   "cell_type": "code",
   "execution_count": 12,
   "metadata": {},
   "outputs": [
    {
     "data": {
      "text/plain": [
       "list"
      ]
     },
     "execution_count": 12,
     "metadata": {},
     "output_type": "execute_result"
    }
   ],
   "source": [
    "type(lista_terremotos)"
   ]
  },
  {
   "cell_type": "code",
   "execution_count": 13,
   "metadata": {},
   "outputs": [
    {
     "data": {
      "text/plain": [
       "14"
      ]
     },
     "execution_count": 13,
     "metadata": {},
     "output_type": "execute_result"
    }
   ],
   "source": [
    "len(lista_terremotos)"
   ]
  },
  {
   "cell_type": "code",
   "execution_count": 17,
   "metadata": {},
   "outputs": [
    {
     "data": {
      "text/plain": [
       "'132km W of Panguna, Papua New Guinea'"
      ]
     },
     "execution_count": 17,
     "metadata": {},
     "output_type": "execute_result"
    }
   ],
   "source": [
    "lista_terremotos[0]['properties']['place']"
   ]
  },
  {
   "cell_type": "code",
   "execution_count": 24,
   "metadata": {},
   "outputs": [
    {
     "name": "stdout",
     "output_type": "stream",
     "text": [
      "Lugar: 132km W of Panguna, Papua New Guinea               Magnitud:        6.3\n",
      "Lugar: 1km S of View Park-Windsor Hills, CA               Magnitud:       3.69\n",
      "Lugar: 25km SE of Ofunato, Japan                          Magnitud:        6.3\n",
      "Lugar: 209km W of Chichi-shima, Japan                     Magnitud:        6.6\n",
      "Lugar: 4km NE of Magna, Utah                              Magnitud:       4.19\n",
      "Lugar: 38km ESE of Falam, Burma                           Magnitud:        5.9\n",
      "Lugar: 55km NNE of Savannah Bight, Honduras               Magnitud:          6\n",
      "Lugar: 4km ENE of Magna, Utah                             Magnitud:       4.17\n",
      "Lugar: 30km SE of Bodie, CA                               Magnitud:       5.24\n",
      "Lugar: 18km ESE of Anza, CA                               Magnitud:        3.5\n",
      "Lugar: 16km ESE of Anza, CA                               Magnitud:       3.66\n",
      "Lugar: 17km ESE of Anza, CA                               Magnitud:       4.87\n",
      "Lugar: 72km ESE of Cascade, Idaho                         Magnitud:        4.8\n",
      "Lugar: 72km W of Challis, Idaho                           Magnitud:        6.5\n"
     ]
    }
   ],
   "source": [
    "for t in lista_terremotos:\n",
    "    print(f'Lugar: {t[\"properties\"][\"place\"]:<50} Magnitud: {t[\"properties\"][\"mag\"]:>10}')"
   ]
  },
  {
   "cell_type": "code",
   "execution_count": 30,
   "metadata": {},
   "outputs": [
    {
     "name": "stdout",
     "output_type": "stream",
     "text": [
      "09.1-archivos.ipynb      juan_perez.json          \u001b[1m\u001b[36mrecursos\u001b[m\u001b[m\n",
      "09.2-archivos_json.ipynb planilla.txt             tabla7.txt\n"
     ]
    }
   ],
   "source": [
    "!ls"
   ]
  },
  {
   "cell_type": "code",
   "execution_count": 31,
   "metadata": {},
   "outputs": [],
   "source": [
    "!mkdir musica"
   ]
  },
  {
   "cell_type": "code",
   "execution_count": null,
   "metadata": {},
   "outputs": [],
   "source": []
  }
 ],
 "metadata": {
  "kernelspec": {
   "display_name": "Python 3",
   "language": "python",
   "name": "python3"
  },
  "language_info": {
   "codemirror_mode": {
    "name": "ipython",
    "version": 3
   },
   "file_extension": ".py",
   "mimetype": "text/x-python",
   "name": "python",
   "nbconvert_exporter": "python",
   "pygments_lexer": "ipython3",
   "version": "3.7.5"
  }
 },
 "nbformat": 4,
 "nbformat_minor": 4
}
