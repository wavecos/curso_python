{
 "cells": [
  {
   "cell_type": "markdown",
   "metadata": {},
   "source": [
    "# Laboratorio - Iteraciones / Asignaciones Aumentadas"
   ]
  },
  {
   "cell_type": "markdown",
   "metadata": {},
   "source": [
    "Realizar un programa que calcule el promedio de notas de alumnos, la introducción de las notas se hará desde el teclado(con input) hasta que se introduzca un `-1` lo cual indicará que ya no se meterán mas notas y en ese momento se debe imprimir el promedio de las notas del curso.\n",
    "\n",
    "Ejemplo de funcionamiento:\n",
    "\n",
    "```\n",
    "Introduzca nota (escriba -1 para salir)? 45\n",
    "Introduzca nota (escriba -1 para salir)? 63\n",
    "Introduzca nota (escriba -1 para salir)? 74\n",
    "Introduzca nota (escriba -1 para salir)? 53\n",
    "Introduzca nota (escriba -1 para salir)? -1    <- salimos de la ejecución\n",
    "\n",
    "El promedio del curso es: 58.75\n",
    "```\n",
    "\n",
    "*Tips - Utilizar un input dentro de un ciclo hasta que detecte un -1 para salir, calcular el promedio con el total y el contador*"
   ]
  },
  {
   "cell_type": "code",
   "execution_count": 3,
   "metadata": {},
   "outputs": [],
   "source": [
    "# Solución..."
   ]
  },
  {
   "cell_type": "code",
   "execution_count": 10,
   "metadata": {},
   "outputs": [
    {
     "name": "stdin",
     "output_type": "stream",
     "text": [
      "Introduzca nota (-1 para salir) 45\n",
      "Introduzca nota (-1 para salir) 63\n",
      "Introduzca nota (-1 para salir) 74\n",
      "Introduzca nota (-1 para salir) 53\n",
      "Introduzca nota (-1 para salir) -1\n"
     ]
    },
    {
     "name": "stdout",
     "output_type": "stream",
     "text": [
      "58.75\n"
     ]
    }
   ],
   "source": [
    "total = 0\n",
    "nota = 0\n",
    "cont = -1\n",
    "\n",
    "while nota != -1:\n",
    "    total += nota\n",
    "    nota = int(input('Introduzca nota (-1 para salir)'))\n",
    "    cont += 1\n",
    "\n",
    "promedio = total / cont\n",
    "\n",
    "print(promedio)\n",
    "        "
   ]
  }
 ],
 "metadata": {
  "kernelspec": {
   "display_name": "Python 3",
   "language": "python",
   "name": "python3"
  },
  "language_info": {
   "codemirror_mode": {
    "name": "ipython",
    "version": 3
   },
   "file_extension": ".py",
   "mimetype": "text/x-python",
   "name": "python",
   "nbconvert_exporter": "python",
   "pygments_lexer": "ipython3",
   "version": "3.7.5"
  }
 },
 "nbformat": 4,
 "nbformat_minor": 4
}
