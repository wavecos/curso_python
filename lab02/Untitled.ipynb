{
 "cells": [
  {
   "cell_type": "markdown",
   "metadata": {},
   "source": [
    "# Operadores Booleanos"
   ]
  },
  {
   "cell_type": "markdown",
   "metadata": {},
   "source": [
    "## And"
   ]
  },
  {
   "cell_type": "markdown",
   "metadata": {},
   "source": [
    "**and** se lee como \"y\" lógico"
   ]
  },
  {
   "cell_type": "code",
   "execution_count": 3,
   "metadata": {},
   "outputs": [
    {
     "name": "stdin",
     "output_type": "stream",
     "text": [
      "cual es tu género? (mujer/varon) mujer\n",
      "cual es tu edad? 25\n",
      "cual es tu sueldo? 1000\n"
     ]
    },
    {
     "name": "stdout",
     "output_type": "stream",
     "text": [
      "Estas en edad laboral pero tu sueldo sera de  1050\n"
     ]
    }
   ],
   "source": [
    "# Ejemplo\n",
    "genero = input('cual es tu género? (mujer/varon)')\n",
    "edad = int(input('cual es tu edad?'))\n",
    "sueldo = int(input('cual es tu sueldo?'))\n",
    "\n",
    "if genero == 'mujer' and edad > 50:\n",
    "    sueldo -= 100\n",
    "    print('Estas en edad de jubilarte y tu sueldo de jubilacion sera ', sueldo)\n",
    "elif genero == 'varon' and edad > 55:\n",
    "    sueldo -= 300\n",
    "    print('Estas en edad de jubilarte y tu sueldo de jubilacion sera ', sueldo)\n",
    "else:\n",
    "    sueldo += 50\n",
    "    print('Estas en edad laboral pero tu sueldo sera de ', sueldo)"
   ]
  },
  {
   "cell_type": "markdown",
   "metadata": {},
   "source": [
    "## Or\n",
    "**or** se lee como \"o\" lógico"
   ]
  },
  {
   "cell_type": "code",
   "execution_count": 6,
   "metadata": {},
   "outputs": [
    {
     "name": "stdin",
     "output_type": "stream",
     "text": [
      "cual es tu género? (mujer/varon) varon\n",
      "tienes trabajo? (s/n) s\n"
     ]
    },
    {
     "name": "stdout",
     "output_type": "stream",
     "text": [
      "Se te dara otro tipo de ayuda\n"
     ]
    }
   ],
   "source": [
    "genero = input('cual es tu género? (mujer/varon)')\n",
    "trabaja = input('tienes trabajo? (s/n)')\n",
    "\n",
    "if (genero == 'mujer' or genero == 'varon')  and trabaja == 'n':\n",
    "    print('Tienes derecho al bono solidario')\n",
    "elif genero == 'mujer' and trabaja == 's':\n",
    "    print('Sigue de largo')\n",
    "else:\n",
    "    print('Se te dara otro tipo de ayuda')"
   ]
  }
 ],
 "metadata": {
  "kernelspec": {
   "display_name": "Python 3",
   "language": "python",
   "name": "python3"
  },
  "language_info": {
   "codemirror_mode": {
    "name": "ipython",
    "version": 3
   },
   "file_extension": ".py",
   "mimetype": "text/x-python",
   "name": "python",
   "nbconvert_exporter": "python",
   "pygments_lexer": "ipython3",
   "version": "3.7.5"
  }
 },
 "nbformat": 4,
 "nbformat_minor": 4
}
