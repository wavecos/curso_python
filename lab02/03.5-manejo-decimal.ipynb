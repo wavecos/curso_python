{
 "cells": [
  {
   "cell_type": "markdown",
   "metadata": {},
   "source": [
    "# Tipo Decimal para Montos Monetarios"
   ]
  },
  {
   "cell_type": "code",
   "execution_count": 5,
   "metadata": {},
   "outputs": [
    {
     "data": {
      "text/plain": [
       "float"
      ]
     },
     "execution_count": 5,
     "metadata": {},
     "output_type": "execute_result"
    }
   ],
   "source": [
    "# definimos monto\n",
    "monto = 1354.23\n",
    "type(monto)"
   ]
  },
  {
   "cell_type": "code",
   "execution_count": 6,
   "metadata": {},
   "outputs": [
    {
     "name": "stdout",
     "output_type": "stream",
     "text": [
      "1354.23\n"
     ]
    }
   ],
   "source": [
    "print(monto)"
   ]
  },
  {
   "cell_type": "code",
   "execution_count": 7,
   "metadata": {},
   "outputs": [
    {
     "name": "stdout",
     "output_type": "stream",
     "text": [
      "1354.23000000000001818989\n"
     ]
    }
   ],
   "source": [
    "print(f'{monto:.20f}')"
   ]
  },
  {
   "cell_type": "markdown",
   "metadata": {},
   "source": [
    "Para este escenario se debe usar el tipo Decimal de la libreria decimal en Python:\n",
    "\n",
    "`from decimal import Decimal`"
   ]
  },
  {
   "cell_type": "code",
   "execution_count": 8,
   "metadata": {},
   "outputs": [],
   "source": [
    "from decimal import Decimal"
   ]
  },
  {
   "cell_type": "code",
   "execution_count": 9,
   "metadata": {},
   "outputs": [],
   "source": [
    "monto = Decimal('1354.23')"
   ]
  },
  {
   "cell_type": "code",
   "execution_count": 10,
   "metadata": {},
   "outputs": [
    {
     "data": {
      "text/plain": [
       "decimal.Decimal"
      ]
     },
     "execution_count": 10,
     "metadata": {},
     "output_type": "execute_result"
    }
   ],
   "source": [
    "type(monto)"
   ]
  },
  {
   "cell_type": "code",
   "execution_count": 12,
   "metadata": {},
   "outputs": [
    {
     "name": "stdout",
     "output_type": "stream",
     "text": [
      "1354.23\n"
     ]
    }
   ],
   "source": [
    "print(monto)"
   ]
  },
  {
   "cell_type": "code",
   "execution_count": 14,
   "metadata": {},
   "outputs": [
    {
     "name": "stdout",
     "output_type": "stream",
     "text": [
      "1454.73\n"
     ]
    }
   ],
   "source": [
    "incremento = Decimal('100.50')\n",
    "total = monto + incremento\n",
    "print(total)"
   ]
  },
  {
   "cell_type": "code",
   "execution_count": 15,
   "metadata": {},
   "outputs": [
    {
     "data": {
      "text/plain": [
       "decimal.Decimal"
      ]
     },
     "execution_count": 15,
     "metadata": {},
     "output_type": "execute_result"
    }
   ],
   "source": [
    "type(total)"
   ]
  },
  {
   "cell_type": "markdown",
   "metadata": {},
   "source": [
    "## Problema - Interés Compuesto\n",
    "\n",
    "[Referencia teórica](https://es.wikipedia.org/wiki/Inter%C3%A9s_compuesto)\n",
    "\n",
    "Una persona invierte 1000 USD en una cuenta de ahorros dando un 5% de interés. Asumiendo que la persona deja todo el interés en depósito en la cuenta, calcular y mostrar la cantidad de dinero al final de cada año por 10 años.\n",
    "Utilice la siguiente fórmula:\n",
    "\n",
    "`a = p(1+r)^n`\n",
    "\n",
    "donde:\n",
    "\n",
    "* `p` es el monto original invertido, `r` es el interés anual\n",
    "* `n` es el número de años\n",
    "* `a` es el monto en depósito al final del año n\n"
   ]
  },
  {
   "cell_type": "code",
   "execution_count": 19,
   "metadata": {},
   "outputs": [
    {
     "name": "stdout",
     "output_type": "stream",
     "text": [
      "año 1 monto = 1050.00\n",
      "año 2 monto = 1102.50\n",
      "año 3 monto = 1157.62\n",
      "año 4 monto = 1215.51\n",
      "año 5 monto = 1276.28\n",
      "año 6 monto = 1340.10\n",
      "año 7 monto = 1407.10\n",
      "año 8 monto = 1477.46\n",
      "año 9 monto = 1551.33\n",
      "año 10 monto = 1628.89\n"
     ]
    }
   ],
   "source": [
    "# Solucion ..\n",
    "p = Decimal('1000.00')\n",
    "r = Decimal('0.05')\n",
    "n = 10\n",
    "\n",
    "for anio in range(1, n + 1):\n",
    "    a = p * (1 + r) ** anio\n",
    "    print('año', anio, 'monto =', f'{a:.2f}')"
   ]
  }
 ],
 "metadata": {
  "kernelspec": {
   "display_name": "Python 3",
   "language": "python",
   "name": "python3"
  },
  "language_info": {
   "codemirror_mode": {
    "name": "ipython",
    "version": 3
   },
   "file_extension": ".py",
   "mimetype": "text/x-python",
   "name": "python",
   "nbconvert_exporter": "python",
   "pygments_lexer": "ipython3",
   "version": "3.7.5"
  }
 },
 "nbformat": 4,
 "nbformat_minor": 4
}
