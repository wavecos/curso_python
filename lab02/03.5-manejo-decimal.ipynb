{
 "cells": [
  {
   "cell_type": "markdown",
   "metadata": {},
   "source": [
    "# Tipo Decimal para Montos Monetarios"
   ]
  },
  {
   "cell_type": "code",
   "execution_count": 2,
   "metadata": {},
   "outputs": [],
   "source": [
    "# definimos monto\n",
    "monto = 1354.23"
   ]
  },
  {
   "cell_type": "markdown",
   "metadata": {},
   "source": [
    "Para este escenario se debe usar el tipo Decimal de la libreria decimal en Python:\n",
    "\n",
    "`from decimal import Decimal`"
   ]
  },
  {
   "cell_type": "code",
   "execution_count": null,
   "metadata": {},
   "outputs": [],
   "source": []
  },
  {
   "cell_type": "code",
   "execution_count": null,
   "metadata": {},
   "outputs": [],
   "source": []
  },
  {
   "cell_type": "markdown",
   "metadata": {},
   "source": [
    "## Problema - Interés Compuesto\n",
    "\n",
    "[Referencia teórica](https://es.wikipedia.org/wiki/Inter%C3%A9s_compuesto)\n",
    "\n",
    "Una persona invierte 1000 USD en una cuenta de ahorros dando un 5% de interés. Asumiendo que la persona deja todo el interés en depósito en la cuenta, calcular y mostrar la cantidad de dinero al final de cada año por 10 años.\n",
    "Utilice la siguiente fórmula:\n",
    "\n",
    "`a = p(1+r)^n`\n",
    "\n",
    "donde:\n",
    "\n",
    "* `p` es el monto original invertido, `r` es el interés anual\n",
    "* `n` es el número de años\n",
    "* `a` es el monto en depósito al final del año n\n"
   ]
  },
  {
   "cell_type": "code",
   "execution_count": null,
   "metadata": {},
   "outputs": [],
   "source": [
    "# Solucion ..\n"
   ]
  }
 ],
 "metadata": {
  "kernelspec": {
   "display_name": "Python 3",
   "language": "python",
   "name": "python3"
  },
  "language_info": {
   "codemirror_mode": {
    "name": "ipython",
    "version": 3
   },
   "file_extension": ".py",
   "mimetype": "text/x-python",
   "name": "python",
   "nbconvert_exporter": "python",
   "pygments_lexer": "ipython3",
   "version": "3.7.5"
  }
 },
 "nbformat": 4,
 "nbformat_minor": 4
}
