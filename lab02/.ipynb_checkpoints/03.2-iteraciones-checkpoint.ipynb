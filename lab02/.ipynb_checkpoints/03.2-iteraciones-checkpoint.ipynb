{
 "cells": [
  {
   "cell_type": "markdown",
   "metadata": {},
   "source": [
    "# 03.2 - Iteraciones"
   ]
  },
  {
   "cell_type": "markdown",
   "metadata": {},
   "source": [
    "## Sentencia while"
   ]
  },
  {
   "cell_type": "markdown",
   "metadata": {},
   "source": [
    "La sentencia `while` es usada para una ejecución repetida mientras una expresión sea True."
   ]
  },
  {
   "cell_type": "code",
   "execution_count": 1,
   "metadata": {},
   "outputs": [
    {
     "name": "stdout",
     "output_type": "stream",
     "text": [
      "0\n",
      "2\n",
      "4\n",
      "6\n",
      "8\n",
      "10\n",
      "12\n",
      "14\n",
      "16\n",
      "18\n",
      "20\n",
      "22\n",
      "24\n",
      "26\n",
      "28\n",
      "30\n",
      "32\n",
      "34\n",
      "36\n",
      "38\n",
      "40\n",
      "42\n",
      "44\n",
      "46\n",
      "48\n",
      "50\n"
     ]
    }
   ],
   "source": [
    "# Ejemplo numeros pares dado un límite\n",
    "numero = 0\n",
    "limite = 50\n",
    "while numero <= 50:\n",
    "    if numero % 2 == 0: # verificamos si es un numero par\n",
    "        print(numero)\n",
    "    numero = numero + 1 # incrementador"
   ]
  },
  {
   "cell_type": "markdown",
   "metadata": {},
   "source": [
    "## Sentencia for"
   ]
  },
  {
   "cell_type": "markdown",
   "metadata": {},
   "source": [
    "La sentencia `for` es utilizada para iterar sobre elementos de una **secuencia** (tales como un string, tuple o list) o otros objetos iterables:"
   ]
  },
  {
   "cell_type": "code",
   "execution_count": 4,
   "metadata": {},
   "outputs": [
    {
     "name": "stdout",
     "output_type": "stream",
     "text": [
      "Q|u|e|d|a|t|e| |e|n| |c|a|s|a|"
     ]
    }
   ],
   "source": [
    "# Recorremos un string\n",
    "for letra in 'Quedate en casa':\n",
    "    print(letra, end='|')"
   ]
  },
  {
   "cell_type": "markdown",
   "metadata": {},
   "source": [
    "> **Nota sobre print** - Por defecto el argumento `end` lleva el caracter de nueva línea `\\n`."
   ]
  },
  {
   "cell_type": "code",
   "execution_count": 16,
   "metadata": {},
   "outputs": [
    {
     "name": "stdout",
     "output_type": "stream",
     "text": [
      "Quedate en casa - otro texto*"
     ]
    }
   ],
   "source": [
    "# Hacer un ejemplo con el argumento sep del print\n",
    "print('Quedate en casa', 'otro texto', sep=' - ', end='*')"
   ]
  },
  {
   "cell_type": "code",
   "execution_count": 19,
   "metadata": {},
   "outputs": [
    {
     "name": "stdout",
     "output_type": "stream",
     "text": [
      "La suma total es 276\n"
     ]
    }
   ],
   "source": [
    "# Iteramos una lista para sacar la suma total\n",
    "notas = [45, 25, 78, 96, 32]\n",
    "total = 0\n",
    "for nota in notas:\n",
    "    total = total + nota\n",
    "print('La suma total es', total)\n",
    "    "
   ]
  },
  {
   "cell_type": "markdown",
   "metadata": {},
   "source": [
    "**Iteramos usando la funcion `range`**"
   ]
  },
  {
   "cell_type": "markdown",
   "metadata": {},
   "source": [
    "La función `range` produce una secuencia de números enteros."
   ]
  },
  {
   "cell_type": "code",
   "execution_count": 21,
   "metadata": {},
   "outputs": [
    {
     "name": "stdout",
     "output_type": "stream",
     "text": [
      "0\n",
      "1\n",
      "2\n",
      "3\n",
      "4\n",
      "5\n",
      "6\n",
      "7\n",
      "8\n",
      "9\n"
     ]
    }
   ],
   "source": [
    "# usamos for con un range (ej. obtener 10 números enteros)\n",
    "for x in range(10): # [0, 1, 2, 3, 4, 5, 6, 7, 8, 9]\n",
    "    print(x)"
   ]
  },
  {
   "cell_type": "code",
   "execution_count": 27,
   "metadata": {},
   "outputs": [
    {
     "name": "stdin",
     "output_type": "stream",
     "text": [
      "La tabla de que numero quiere ver? 4\n"
     ]
    },
    {
     "name": "stdout",
     "output_type": "stream",
     "text": [
      "0 x 4 = 0\n",
      "1 x 4 = 4\n",
      "2 x 4 = 8\n",
      "3 x 4 = 12\n",
      "4 x 4 = 16\n",
      "5 x 4 = 20\n",
      "6 x 4 = 24\n",
      "7 x 4 = 28\n",
      "8 x 4 = 32\n",
      "9 x 4 = 36\n"
     ]
    }
   ],
   "source": [
    "# ej. tabla de multiplicar del 7\n",
    "tabla = int(input('La tabla de que numero quiere ver?'))\n",
    "for numero in range(10):\n",
    "    print(numero, 'x', tabla, '=', numero * tabla)\n"
   ]
  }
 ],
 "metadata": {
  "kernelspec": {
   "display_name": "Python 3",
   "language": "python",
   "name": "python3"
  },
  "language_info": {
   "codemirror_mode": {
    "name": "ipython",
    "version": 3
   },
   "file_extension": ".py",
   "mimetype": "text/x-python",
   "name": "python",
   "nbconvert_exporter": "python",
   "pygments_lexer": "ipython3",
   "version": "3.7.5"
  }
 },
 "nbformat": 4,
 "nbformat_minor": 4
}
