{
 "cells": [
  {
   "cell_type": "markdown",
   "metadata": {},
   "source": [
    "# Operadores Booleanos"
   ]
  },
  {
   "cell_type": "markdown",
   "metadata": {},
   "source": [
    "## Diagrama de Venn"
   ]
  },
  {
   "cell_type": "markdown",
   "metadata": {},
   "source": [
    "![Diagrama de Venn](img/venn_diagram.png)"
   ]
  },
  {
   "cell_type": "markdown",
   "metadata": {},
   "source": [
    "## Lógica Booleana"
   ]
  },
  {
   "cell_type": "markdown",
   "metadata": {},
   "source": [
    "![Lógica booleana](img/truth-table.png)"
   ]
  },
  {
   "cell_type": "markdown",
   "metadata": {},
   "source": [
    "## Ejemplo Operador `And`"
   ]
  },
  {
   "cell_type": "markdown",
   "metadata": {},
   "source": [
    "**and** se lee como \"y\" lógico"
   ]
  },
  {
   "cell_type": "code",
   "execution_count": 3,
   "metadata": {},
   "outputs": [
    {
     "name": "stdin",
     "output_type": "stream",
     "text": [
      "cual es tu género? (mujer/varon) mujer\n",
      "cual es tu edad? 25\n",
      "cual es tu sueldo? 1000\n"
     ]
    },
    {
     "name": "stdout",
     "output_type": "stream",
     "text": [
      "Estas en edad laboral pero tu sueldo sera de  1050\n"
     ]
    }
   ],
   "source": [
    "# Ejemplo\n",
    "genero = input('cual es tu género? (mujer/varon)')\n",
    "edad = int(input('cual es tu edad?'))\n",
    "sueldo = int(input('cual es tu sueldo?'))\n",
    "\n",
    "if genero == 'mujer' and edad > 50:\n",
    "    sueldo -= 100\n",
    "    print('Estas en edad de jubilarte y tu sueldo de jubilacion sera ', sueldo)\n",
    "elif genero == 'varon' and edad > 55:\n",
    "    sueldo -= 300\n",
    "    print('Estas en edad de jubilarte y tu sueldo de jubilacion sera ', sueldo)\n",
    "else:\n",
    "    sueldo += 50\n",
    "    print('Estas en edad laboral, tu nuevo sueldo sera de ', sueldo)"
   ]
  },
  {
   "cell_type": "markdown",
   "metadata": {},
   "source": [
    "## Ejemplo Operador `Or`\n",
    "**or** se lee como \"o\" lógico"
   ]
  },
  {
   "cell_type": "code",
   "execution_count": 8,
   "metadata": {},
   "outputs": [
    {
     "name": "stdin",
     "output_type": "stream",
     "text": [
      "cual es tu género? (mujer/varon) varon\n",
      "cuál es el sueldo? 45\n",
      "tienes hijos? (s/n) n\n"
     ]
    },
    {
     "name": "stdout",
     "output_type": "stream",
     "text": [
      "Tienes derecho a un Bono Solidario\n"
     ]
    }
   ],
   "source": [
    "genero = input('cual es tu género? (mujer/varon)')\n",
    "sueldo = int(input('cuál es el sueldo?'))\n",
    "hijos = input('tienes hijos? (s/n)')\n",
    "\n",
    "if (genero == 'mujer' or sueldo < 2000) and hijos == 's':\n",
    "    print('Tienes derecho a un Bono Familia')\n",
    "elif genero == 'varon' and sueldo < 1500:\n",
    "    print('Tienes derecho a un Bono Solidario')\n",
    "else:\n",
    "    print('No aplicas a ningún bono')"
   ]
  },
  {
   "cell_type": "markdown",
   "metadata": {},
   "source": [
    "## Ejemplo Operador `Not`\n",
    "**or** se lee como \"no\" lógico, se usa para negación"
   ]
  },
  {
   "cell_type": "code",
   "execution_count": 11,
   "metadata": {},
   "outputs": [
    {
     "name": "stdin",
     "output_type": "stream",
     "text": [
      "edad 43\n",
      "positivo virus? (1/0) 1\n"
     ]
    },
    {
     "name": "stdout",
     "output_type": "stream",
     "text": [
      "Tienes que estar en cuarentena absoluta\n"
     ]
    }
   ],
   "source": [
    "edad = int(input('edad'))\n",
    "virus = int(input('positivo virus? (1/0)'))\n",
    "\n",
    "if edad > 60 and not virus:\n",
    "    print('Estas en edad de riesgo')\n",
    "else:\n",
    "    print('Tienes que estar en cuarentena absoluta')"
   ]
  }
 ],
 "metadata": {
  "kernelspec": {
   "display_name": "Python 3",
   "language": "python",
   "name": "python3"
  },
  "language_info": {
   "codemirror_mode": {
    "name": "ipython",
    "version": 3
   },
   "file_extension": ".py",
   "mimetype": "text/x-python",
   "name": "python",
   "nbconvert_exporter": "python",
   "pygments_lexer": "ipython3",
   "version": "3.7.5"
  }
 },
 "nbformat": 4,
 "nbformat_minor": 4
}
