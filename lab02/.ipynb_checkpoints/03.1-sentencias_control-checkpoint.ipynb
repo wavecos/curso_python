{
 "cells": [
  {
   "cell_type": "markdown",
   "metadata": {},
   "source": [
    "# 03.1 - Sentencias de Control : if - if..else - if..elif..else"
   ]
  },
  {
   "cell_type": "markdown",
   "metadata": {},
   "source": [
    "Sea la variable nota, la nota de un alumno"
   ]
  },
  {
   "cell_type": "code",
   "execution_count": 10,
   "metadata": {},
   "outputs": [],
   "source": [
    "nota = 78"
   ]
  },
  {
   "cell_type": "markdown",
   "metadata": {},
   "source": [
    "## Sentencia if"
   ]
  },
  {
   "cell_type": "markdown",
   "metadata": {},
   "source": [
    "La sentencia `if` es usada para una ejecución condicional. Esta condición debe evaluarse para True o False\n",
    "* p.ej. Verifiquemos si el alumno pasó de curso:"
   ]
  },
  {
   "cell_type": "code",
   "execution_count": 4,
   "metadata": {},
   "outputs": [
    {
     "name": "stdout",
     "output_type": "stream",
     "text": [
      "salir de aplicacion\n"
     ]
    }
   ],
   "source": [
    "# Ejemplo if\n",
    "if nota >= 51:\n",
    "    print('Aprobado')\n",
    "    print('Enviar certificado digital')\n",
    "    print('Imprimir Certificado')\n",
    "print('salir de aplicacion')\n"
   ]
  },
  {
   "cell_type": "markdown",
   "metadata": {},
   "source": [
    "## Importante - Bloques de Identación"
   ]
  },
  {
   "cell_type": "markdown",
   "metadata": {},
   "source": [
    "En Python los bloques son definidos por la identación, dicha identación debe ser uniforme y consistente. A diferencia de otros lenguajes que usan por ejemplo `{` y `}` para definir un bloque de código."
   ]
  },
  {
   "cell_type": "markdown",
   "metadata": {},
   "source": [
    "> En Python la identación por defecto es de 4 espacios."
   ]
  },
  {
   "cell_type": "markdown",
   "metadata": {},
   "source": [
    "El ejemplo siguiente, es una mala identación de bloque:"
   ]
  },
  {
   "cell_type": "code",
   "execution_count": 9,
   "metadata": {},
   "outputs": [
    {
     "name": "stdout",
     "output_type": "stream",
     "text": [
      "ok\n"
     ]
    }
   ],
   "source": [
    "if False:\n",
    "    print('hello')\n",
    "print('ok')"
   ]
  },
  {
   "cell_type": "code",
   "execution_count": null,
   "metadata": {},
   "outputs": [],
   "source": []
  },
  {
   "cell_type": "markdown",
   "metadata": {},
   "source": [
    "## Sentencia if..else"
   ]
  },
  {
   "cell_type": "markdown",
   "metadata": {},
   "source": [
    "La sentencia `else` se considera como un camino alternativo a `if`, p.ej."
   ]
  },
  {
   "cell_type": "code",
   "execution_count": 32,
   "metadata": {},
   "outputs": [
    {
     "name": "stdout",
     "output_type": "stream",
     "text": [
      "el alumno reprobo con  12\n"
     ]
    },
    {
     "name": "stdin",
     "output_type": "stream",
     "text": [
      "quieres ajustar la nota (s/n)? s\n",
      "en cuanto quieres subir la nota? 40\n"
     ]
    },
    {
     "name": "stdout",
     "output_type": "stream",
     "text": [
      "Reprobaste con  12  pero te he subido a 52\n"
     ]
    }
   ],
   "source": [
    "# Ejemplo if .. else\n",
    "nota = 12\n",
    "if nota >= 51:\n",
    "    print('Aprobado')\n",
    "else:\n",
    "    print('el alumno reprobo con ', nota)\n",
    "    ajuste = input('quieres ajustar la nota (s/n)?')\n",
    "    if ajuste == 's':\n",
    "        nota_ajuste = int(input('en cuanto quieres subir la nota?'))\n",
    "        nota_final = nota + nota_ajuste\n",
    "        print('Reprobaste con ', nota, ' pero te he subido a', nota_final)\n",
    "    else:\n",
    "        print('Reprobaste con ', nota)\n",
    "        \n",
    "  \n",
    "    "
   ]
  },
  {
   "cell_type": "markdown",
   "metadata": {},
   "source": [
    "Otra forma de usar sentencias de control y asgnar la evaluación a una variable:"
   ]
  },
  {
   "cell_type": "code",
   "execution_count": 27,
   "metadata": {},
   "outputs": [],
   "source": [
    "resultado = ('Aprobaste' if nota >= 51 else 'Reprobado ' + str(nota + nota2))"
   ]
  },
  {
   "cell_type": "code",
   "execution_count": 28,
   "metadata": {},
   "outputs": [
    {
     "data": {
      "text/plain": [
       "'Reprobado 39'"
      ]
     },
     "execution_count": 28,
     "metadata": {},
     "output_type": "execute_result"
    }
   ],
   "source": [
    "# verificamos resultado\n",
    "resultado"
   ]
  },
  {
   "cell_type": "code",
   "execution_count": 19,
   "metadata": {},
   "outputs": [
    {
     "data": {
      "text/plain": [
       "'sin internet'"
      ]
     },
     "execution_count": 19,
     "metadata": {},
     "output_type": "execute_result"
    }
   ],
   "source": [
    "# verificar conexion a internet\n",
    "ping = 3\n",
    "esta_conectado = 'conectado' if ping > 10 else 'sin internet'\n",
    "esta_conectado"
   ]
  },
  {
   "cell_type": "markdown",
   "metadata": {},
   "source": [
    "## Sentencias if..elif..else"
   ]
  },
  {
   "cell_type": "markdown",
   "metadata": {},
   "source": [
    "la sentencia `elif` se utiliza para múltiples condiciones, se puede interpretar como \"en caso contrario si...\", p.ej."
   ]
  },
  {
   "cell_type": "code",
   "execution_count": 5,
   "metadata": {},
   "outputs": [],
   "source": [
    "# ejemplo de nota con excelente, muy bien, bien, reprobado"
   ]
  },
  {
   "cell_type": "code",
   "execution_count": 9,
   "metadata": {},
   "outputs": [
    {
     "name": "stdin",
     "output_type": "stream",
     "text": [
      "nota ? 37\n"
     ]
    },
    {
     "name": "stdout",
     "output_type": "stream",
     "text": [
      "reprobado\n"
     ]
    }
   ],
   "source": [
    "nota = int(input('nota ?'))\n",
    "\n",
    "if nota >= 95:\n",
    "    print('Excelente!')\n",
    "elif nota > 75:\n",
    "    print('Muy bien')\n",
    "elif nota > 51:\n",
    "    print('Bien')\n",
    "else:\n",
    "    print('reprobado')"
   ]
  },
  {
   "cell_type": "code",
   "execution_count": null,
   "metadata": {},
   "outputs": [],
   "source": []
  }
 ],
 "metadata": {
  "kernelspec": {
   "display_name": "Python 3",
   "language": "python",
   "name": "python3"
  },
  "language_info": {
   "codemirror_mode": {
    "name": "ipython",
    "version": 3
   },
   "file_extension": ".py",
   "mimetype": "text/x-python",
   "name": "python",
   "nbconvert_exporter": "python",
   "pygments_lexer": "ipython3",
   "version": "3.7.5"
  }
 },
 "nbformat": 4,
 "nbformat_minor": 4
}
