{
 "cells": [
  {
   "cell_type": "markdown",
   "metadata": {},
   "source": [
    "# Laboratorio - Sentencias de Control"
   ]
  },
  {
   "cell_type": "markdown",
   "metadata": {},
   "source": [
    "Realizar un pequeño programa en python en el cual se pida el nombre de un alumno y a continuación se pidan tres notas académicas, con esta información el programa debe calcular la nota final e imprimir esta con un mensaje, por ejemplo: **\"Juan lo hiciste excelente\"** si la nota es mayor a 85, **\"Juan lo hiciste bien\"** si la nota es mayor o igual a 51 y **\"Juan reprobaste!\"** si es menor a 51."
   ]
  },
  {
   "cell_type": "code",
   "execution_count": 2,
   "metadata": {},
   "outputs": [],
   "source": [
    "# tips: usa todo lo que aprendiste hasta el momento (inputs, prints, sentencias de control, etc)"
   ]
  }
 ],
 "metadata": {
  "kernelspec": {
   "display_name": "Python 3",
   "language": "python",
   "name": "python3"
  },
  "language_info": {
   "codemirror_mode": {
    "name": "ipython",
    "version": 3
   },
   "file_extension": ".py",
   "mimetype": "text/x-python",
   "name": "python",
   "nbconvert_exporter": "python",
   "pygments_lexer": "ipython3",
   "version": "3.7.5"
  }
 },
 "nbformat": 4,
 "nbformat_minor": 4
}
