{
 "cells": [
  {
   "cell_type": "markdown",
   "metadata": {},
   "source": [
    "# Asignaciones Aumentadas"
   ]
  },
  {
   "cell_type": "markdown",
   "metadata": {},
   "source": [
    " De una forma más concisa expresiones como:\n",
    " `x = x + 1`\n",
    " \n",
    " se las puede representar como:\n",
    " \n",
    " `x += 1`"
   ]
  },
  {
   "cell_type": "code",
   "execution_count": 1,
   "metadata": {},
   "outputs": [
    {
     "name": "stdout",
     "output_type": "stream",
     "text": [
      "5\n",
      "729\n",
      "3\n"
     ]
    }
   ],
   "source": [
    "# Definimos variables con valores iniciales, a, b, c, d ...\n",
    "a = 3\n",
    "b = 9\n",
    "c = 4\n",
    "\n",
    "a += 2 # es igual que a = a + 2\n",
    "print(a)\n",
    "\n",
    "b **= 3 # es igual que b = b ** 3\n",
    "print(b)\n",
    "\n",
    "c -= 1 # es igual que c = c - 1\n",
    "print(c)"
   ]
  },
  {
   "cell_type": "code",
   "execution_count": 2,
   "metadata": {},
   "outputs": [
    {
     "name": "stdout",
     "output_type": "stream",
     "text": [
      "28\n"
     ]
    }
   ],
   "source": [
    "# Iteracion con for sobre una lista para obtener el total de números\n",
    "total = 0\n",
    "for n in [2, 3, 4, 6, 7, 1, 5]:\n",
    "    total += n\n",
    "print(total)"
   ]
  },
  {
   "cell_type": "markdown",
   "metadata": {},
   "source": [
    "## Problema\n",
    "Obtener el promedio total de temperaturas mínimas de la última semana que se han registrado en la ciudad de Cochabamba.\n",
    "consultar este [Enlace](https://www.timeanddate.com/weather/bolivia/cochabamba/historic)"
   ]
  },
  {
   "cell_type": "code",
   "execution_count": 5,
   "metadata": {},
   "outputs": [
    {
     "name": "stdout",
     "output_type": "stream",
     "text": [
      "El promedio de Temp mínima es = 9.857142857142858\n"
     ]
    }
   ],
   "source": [
    "temperaturas_minimas = [12, 10, 10, 9, 8, 10, 10]\n",
    "\n",
    "suma_total = 0\n",
    "contador = 0\n",
    "for temp in temperaturas_minimas:\n",
    "    suma_total += temp\n",
    "    contador += 1\n",
    "promedio = suma_total / contador\n",
    "\n",
    "print('El promedio de Temp mínima es =', promedio)"
   ]
  }
 ],
 "metadata": {
  "kernelspec": {
   "display_name": "Python 3",
   "language": "python",
   "name": "python3"
  },
  "language_info": {
   "codemirror_mode": {
    "name": "ipython",
    "version": 3
   },
   "file_extension": ".py",
   "mimetype": "text/x-python",
   "name": "python",
   "nbconvert_exporter": "python",
   "pygments_lexer": "ipython3",
   "version": "3.7.5"
  }
 },
 "nbformat": 4,
 "nbformat_minor": 4
}
